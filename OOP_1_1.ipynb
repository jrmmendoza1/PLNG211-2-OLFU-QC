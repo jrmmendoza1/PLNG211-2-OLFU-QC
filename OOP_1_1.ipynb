{
  "nbformat": 4,
  "nbformat_minor": 0,
  "metadata": {
    "colab": {
      "provenance": [],
      "authorship_tag": "ABX9TyOSPoEqUNcVH7AusUltPqQj",
      "include_colab_link": true
    },
    "kernelspec": {
      "name": "python3",
      "display_name": "Python 3"
    },
    "language_info": {
      "name": "python"
    }
  },
  "cells": [
    {
      "cell_type": "markdown",
      "metadata": {
        "id": "view-in-github",
        "colab_type": "text"
      },
      "source": [
        "<a href=\"https://colab.research.google.com/github/jrmmendoza1/PLNG211-2-OLFU-QC/blob/main/OOP_1_1.ipynb\" target=\"_parent\"><img src=\"https://colab.research.google.com/assets/colab-badge.svg\" alt=\"Open In Colab\"/></a>"
      ]
    },
    {
      "cell_type": "code",
      "execution_count": 1,
      "metadata": {
        "id": "VN_LKY95GHSJ"
      },
      "outputs": [],
      "source": [
        "\n",
        "#1. Write a Python to display your full name, student number, age, and course\n",
        "Name = \"Joshua Miguel R. Mendoza\"\n",
        "Student_No = 18-7605-499\n",
        "Age = 21\n",
        "School = \"Our Lady Fatima University\"\n",
        "Course = \"Bachelor in Science Computer Science\""
      ]
    },
    {
      "cell_type": "code",
      "source": [
        "#2. Create a class named Student with attributes: Name, Student_No, Age, School, and Course\n",
        "class Student:\n",
        "  def __init__(self,Name, Student_No, Age,School,Course):\n",
        "    self.Name = Name\n",
        "    self.Student_No = Student_No\n",
        "    self.Age = Age\n",
        "    self.School = School\n",
        "    self.Course = Course"
      ],
      "metadata": {
        "id": "tWiNU7rtGRPT"
      },
      "execution_count": 2,
      "outputs": []
    },
    {
      "cell_type": "code",
      "source": [
        "#4. Create a method Info() using an instantiation of a class\n",
        "def info(self):\n",
        "    print(\"\"+self.Name)\n",
        "    print(self.Student_No)\n",
        "    print(self.Age)\n",
        "    print(\"\"+self.School)\n",
        "    print(\"\"+self.Course)"
      ],
      "metadata": {
        "id": "KcdjJw_JGWHE"
      },
      "execution_count": 8,
      "outputs": []
    },
    {
      "cell_type": "code",
      "source": [
        "#3. Create an object name Myself and assign an instance for each attribute\n",
        "Myself = Student(Name,Student_No,Age,School,Course)"
      ],
      "metadata": {
        "id": "KzrY0fKwGYch"
      },
      "execution_count": 4,
      "outputs": []
    },
    {
      "cell_type": "code",
      "source": [
        "#4. Create a method Info() using an instantiation of a class\n",
        "Myself.info()\n"
      ],
      "metadata": {
        "colab": {
          "base_uri": "https://localhost:8080/",
          "height": 183
        },
        "id": "TL_2v4NCGZ96",
        "outputId": "8b72944a-bdff-4d70-9f49-cfadaca8e622"
      },
      "execution_count": 13,
      "outputs": [
        {
          "output_type": "error",
          "ename": "AttributeError",
          "evalue": "ignored",
          "traceback": [
            "\u001b[0;31m---------------------------------------------------------------------------\u001b[0m",
            "\u001b[0;31mAttributeError\u001b[0m                            Traceback (most recent call last)",
            "\u001b[0;32m<ipython-input-13-2407087b1edc>\u001b[0m in \u001b[0;36m<module>\u001b[0;34m\u001b[0m\n\u001b[1;32m      1\u001b[0m \u001b[0;31m#4. Create a method Info() using an instantiation of a class\u001b[0m\u001b[0;34m\u001b[0m\u001b[0;34m\u001b[0m\u001b[0;34m\u001b[0m\u001b[0m\n\u001b[0;32m----> 2\u001b[0;31m \u001b[0mMyself\u001b[0m\u001b[0;34m.\u001b[0m\u001b[0minfo\u001b[0m\u001b[0;34m(\u001b[0m\u001b[0;34m)\u001b[0m\u001b[0;34m\u001b[0m\u001b[0;34m\u001b[0m\u001b[0m\n\u001b[0m",
            "\u001b[0;31mAttributeError\u001b[0m: 'Student' object has no attribute 'info'"
          ]
        }
      ]
    }
  ]
}