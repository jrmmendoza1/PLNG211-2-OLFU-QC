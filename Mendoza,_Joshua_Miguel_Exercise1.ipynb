{
  "nbformat": 4,
  "nbformat_minor": 0,
  "metadata": {
    "colab": {
      "provenance": [],
      "authorship_tag": "ABX9TyM5oN0JKvrLfYu4/l5VQfGA",
      "include_colab_link": true
    },
    "kernelspec": {
      "name": "python3",
      "display_name": "Python 3"
    },
    "language_info": {
      "name": "python"
    }
  },
  "cells": [
    {
      "cell_type": "markdown",
      "metadata": {
        "id": "view-in-github",
        "colab_type": "text"
      },
      "source": [
        "<a href=\"https://colab.research.google.com/github/jrmmendoza1/PLNG211-2-OLFU-QC/blob/main/Mendoza%2C_Joshua_Miguel_Exercise1.ipynb\" target=\"_parent\"><img src=\"https://colab.research.google.com/assets/colab-badge.svg\" alt=\"Open In Colab\"/></a>"
      ]
    },
    {
      "cell_type": "code",
      "execution_count": 3,
      "metadata": {
        "colab": {
          "base_uri": "https://localhost:8080/"
        },
        "id": "_UIJTMau0B6e",
        "outputId": "587dec7b-383a-44c8-9b1c-eefad12bfbf1"
      },
      "outputs": [
        {
          "output_type": "stream",
          "name": "stdout",
          "text": [
            "ODD numbers: \n",
            "49\n",
            "87\n",
            "75\n",
            "The sum of the odd numbers are: 211\n"
          ]
        }
      ],
      "source": [
        "num=[26,49,98,87,62,75]\n",
        "sum=0;\n",
        "print(\"ODD numbers: \")\n",
        "for x in num:\n",
        "  if (x %2 != 0): \n",
        "    sum=sum+x\n",
        "    print(x)\n",
        "print(\"The sum of the odd numbers are:\",sum)"
      ]
    }
  ]
}