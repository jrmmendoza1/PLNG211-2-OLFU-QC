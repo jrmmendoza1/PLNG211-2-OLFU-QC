{
  "nbformat": 4,
  "nbformat_minor": 0,
  "metadata": {
    "colab": {
      "provenance": [],
      "authorship_tag": "ABX9TyNjJRl0dHTalwnt0XI8l40m",
      "include_colab_link": true
    },
    "kernelspec": {
      "name": "python3",
      "display_name": "Python 3"
    },
    "language_info": {
      "name": "python"
    }
  },
  "cells": [
    {
      "cell_type": "markdown",
      "metadata": {
        "id": "view-in-github",
        "colab_type": "text"
      },
      "source": [
        "<a href=\"https://colab.research.google.com/github/jrmmendoza1/PLNG211-2-OLFU-QC/blob/main/Application1_Function.ipynb\" target=\"_parent\"><img src=\"https://colab.research.google.com/assets/colab-badge.svg\" alt=\"Open In Colab\"/></a>"
      ]
    },
    {
      "cell_type": "code",
      "execution_count": 1,
      "metadata": {
        "colab": {
          "base_uri": "https://localhost:8080/"
        },
        "id": "GBXwpjcaNUpZ",
        "outputId": "3006d07f-fc63-4579-ddff-fecf0b4fc716"
      },
      "outputs": [
        {
          "output_type": "stream",
          "name": "stdout",
          "text": [
            "Hello! My name is Owa\n",
            "I am 20\n",
            "I live in Caloocan City\n",
            "Hello! My name is Super\n",
            "I am 19\n",
            "I live in Caloocan City\n",
            "Hello! My name is Idol\n",
            "I am 41\n",
            "I live in Quezon City\n"
          ]
        }
      ],
      "source": [
        "class Person:\n",
        "  def __init__(self,name,age,address):\n",
        "    self.name = name\n",
        "    self.age = age\n",
        "    self.address = address\n",
        "  def myFunction(self):\n",
        "    print(\"Hello! My name is\",self.name)\n",
        "    print(\"I am\",self.age)\n",
        "    print(\"I live in\",self.address)\n",
        "\n",
        "class Student(Person):\n",
        "  pass\n",
        "\n",
        "class Teacher(Person):\n",
        "  pass    \n",
        "    \n",
        "p1 = Person(\"Owa\",20,\"Caloocan City\")\n",
        "p1.myFunction()\n",
        "\n",
        "p2 = Student(\"Super\",19,\"Caloocan City\")\n",
        "p2.myFunction()\n",
        "\n",
        "p3 = Teacher(\"Idol\",41,\"Quezon City\")\n",
        "p3.myFunction()"
      ]
    },
    {
      "cell_type": "code",
      "source": [
        "#Modify an Obeject Property\n",
        "\n",
        "p3.age = 25\n",
        "p3.myFunction()"
      ],
      "metadata": {
        "colab": {
          "base_uri": "https://localhost:8080/"
        },
        "id": "M6nKmCSsNcw1",
        "outputId": "dabaae39-c056-4cd8-8464-daa23ba420ff"
      },
      "execution_count": 2,
      "outputs": [
        {
          "output_type": "stream",
          "name": "stdout",
          "text": [
            "Hello! My name is Idol\n",
            "I am 25\n",
            "I live in Quezon City\n"
          ]
        }
      ]
    },
    {
      "cell_type": "code",
      "source": [
        "#Delete an Object Property\n",
        "print(p2.name)\n",
        "del p2\n",
        "p2.myFunction"
      ],
      "metadata": {
        "colab": {
          "base_uri": "https://localhost:8080/",
          "height": 217
        },
        "id": "nMjCpLWrNf62",
        "outputId": "99a2685b-c957-4ea7-f1ba-8c6d2d344b87"
      },
      "execution_count": 8,
      "outputs": [
        {
          "output_type": "error",
          "ename": "NameError",
          "evalue": "ignored",
          "traceback": [
            "\u001b[0;31m---------------------------------------------------------------------------\u001b[0m",
            "\u001b[0;31mNameError\u001b[0m                                 Traceback (most recent call last)",
            "\u001b[0;32m<ipython-input-8-4ef81e776c18>\u001b[0m in \u001b[0;36m<module>\u001b[0;34m\u001b[0m\n\u001b[1;32m      1\u001b[0m \u001b[0;31m#Delete an Object Property\u001b[0m\u001b[0;34m\u001b[0m\u001b[0;34m\u001b[0m\u001b[0;34m\u001b[0m\u001b[0m\n\u001b[0;32m----> 2\u001b[0;31m \u001b[0mprint\u001b[0m\u001b[0;34m(\u001b[0m\u001b[0mp2\u001b[0m\u001b[0;34m.\u001b[0m\u001b[0mname\u001b[0m\u001b[0;34m)\u001b[0m\u001b[0;34m\u001b[0m\u001b[0;34m\u001b[0m\u001b[0m\n\u001b[0m\u001b[1;32m      3\u001b[0m \u001b[0;32mdel\u001b[0m \u001b[0mp2\u001b[0m\u001b[0;34m\u001b[0m\u001b[0;34m\u001b[0m\u001b[0m\n\u001b[1;32m      4\u001b[0m \u001b[0mp2\u001b[0m\u001b[0;34m.\u001b[0m\u001b[0mmyFunction\u001b[0m\u001b[0;34m\u001b[0m\u001b[0;34m\u001b[0m\u001b[0m\n",
            "\u001b[0;31mNameError\u001b[0m: name 'p2' is not defined"
          ]
        }
      ]
    },
    {
      "cell_type": "code",
      "source": [
        "#Application 1 - Write a Python program that computes the area and perimeter of a square\n",
        "#Use Square as class name\n",
        "#Use sides as attributes\n",
        "#Create methods Area() and Perimeter()\n",
        "class Square:\n",
        "  pass\n",
        "\n",
        "  def __init__(side,area,per):\n",
        "    side.area = pow(area,2)\n",
        "    side.per = per*4\n",
        "  def myFunction(side):\n",
        "    print(\"The Area of the Square:\",side.area)\n",
        "    print(\"The Perimeter of the Square:\",side.per)\n",
        "\n",
        "p1 = Square(6,9)\n",
        "p1.myFunction()"
      ],
      "metadata": {
        "colab": {
          "base_uri": "https://localhost:8080/"
        },
        "id": "8QaiCpEbNn9r",
        "outputId": "f7c30915-0374-4062-f767-ee751b4cb712"
      },
      "execution_count": 4,
      "outputs": [
        {
          "output_type": "stream",
          "name": "stdout",
          "text": [
            "The Area of the Square: 36\n",
            "The Perimeter of the Square: 36\n"
          ]
        }
      ]
    }
  ]
}