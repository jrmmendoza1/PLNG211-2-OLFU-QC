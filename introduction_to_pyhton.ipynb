{
  "nbformat": 4,
  "nbformat_minor": 0,
  "metadata": {
    "colab": {
      "provenance": [],
      "collapsed_sections": [],
      "authorship_tag": "ABX9TyMM7y2SFLmQkrtxxhvfErZv",
      "include_colab_link": true
    },
    "kernelspec": {
      "name": "python3",
      "display_name": "Python 3"
    },
    "language_info": {
      "name": "python"
    }
  },
  "cells": [
    {
      "cell_type": "markdown",
      "metadata": {
        "id": "view-in-github",
        "colab_type": "text"
      },
      "source": [
        "<a href=\"https://colab.research.google.com/github/jrmmendoza1/PLNG211-2-OLFU-QC/blob/main/introduction_to_pyhton.ipynb\" target=\"_parent\"><img src=\"https://colab.research.google.com/assets/colab-badge.svg\" alt=\"Open In Colab\"/></a>"
      ]
    },
    {
      "cell_type": "code",
      "execution_count": null,
      "metadata": {
        "id": "7Bg4bIFuO94U"
      },
      "outputs": [],
      "source": [
        "# This is a comment\n",
        "print(\"Hello, world\")"
      ]
    },
    {
      "cell_type": "code",
      "source": [
        "  #multiple variable\n",
        "  a,b = float(8),float(-1)\n",
        "\n",
        "  #string type\n",
        "  c = \"owa\""
      ],
      "metadata": {
        "id": "nyNT1cd7PET2"
      },
      "execution_count": null,
      "outputs": []
    },
    {
      "cell_type": "code",
      "source": [
        "print(a)\n",
        "print(b)\n",
        "c"
      ],
      "metadata": {
        "colab": {
          "base_uri": "https://localhost:8080/",
          "height": 70
        },
        "id": "Vfu9vGa3PPUN",
        "outputId": "7319ec51-7482-4630-9c24-670b460fee83"
      },
      "execution_count": null,
      "outputs": [
        {
          "output_type": "stream",
          "name": "stdout",
          "text": [
            "8.0\n",
            "-1.0\n"
          ]
        },
        {
          "output_type": "execute_result",
          "data": {
            "text/plain": [
              "'owa'"
            ],
            "application/vnd.google.colaboratory.intrinsic+json": {
              "type": "string"
            }
          },
          "metadata": {},
          "execution_count": 2
        }
      ]
    },
    {
      "cell_type": "code",
      "source": [
        "x = \"petmalu\"\n",
        "y= \"Python Programming is \"\n",
        "\n",
        "print(y + x)"
      ],
      "metadata": {
        "colab": {
          "base_uri": "https://localhost:8080/"
        },
        "id": "skZ8rcxmPlwh",
        "outputId": "0f7ed10b-b66a-4d93-99e0-24b2b827d246"
      },
      "execution_count": null,
      "outputs": [
        {
          "output_type": "stream",
          "name": "stdout",
          "text": [
            "Python Programming is petmalu\n"
          ]
        }
      ]
    },
    {
      "cell_type": "code",
      "source": [
        "x = 5\n",
        "x += 3\n",
        "\n",
        "print(x)"
      ],
      "metadata": {
        "id": "IWWBg2vnQO3-"
      },
      "execution_count": null,
      "outputs": []
    },
    {
      "cell_type": "code",
      "source": [
        "x = 6969\n",
        "x>>2"
      ],
      "metadata": {
        "id": "TXGMkNa4QQeW"
      },
      "execution_count": null,
      "outputs": []
    },
    {
      "cell_type": "code",
      "source": [
        "x = 6>9\n",
        "y = 69<420\n",
        "\n",
        "print(y)\n",
        "print(x)\n",
        "\n",
        "print(x and y)\n",
        "x or y"
      ],
      "metadata": {
        "id": "MQgRldyDQSrX"
      },
      "execution_count": null,
      "outputs": []
    }
  ]
}