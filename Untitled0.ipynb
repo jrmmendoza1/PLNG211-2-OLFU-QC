{
  "nbformat": 4,
  "nbformat_minor": 0,
  "metadata": {
    "colab": {
      "provenance": [],
      "authorship_tag": "ABX9TyMnqCEVOn7UE64IvUrjooMy",
      "include_colab_link": true
    },
    "kernelspec": {
      "name": "python3",
      "display_name": "Python 3"
    },
    "language_info": {
      "name": "python"
    }
  },
  "cells": [
    {
      "cell_type": "markdown",
      "metadata": {
        "id": "view-in-github",
        "colab_type": "text"
      },
      "source": [
        "<a href=\"https://colab.research.google.com/github/jrmmendoza1/PLNG211-2-OLFU-QC/blob/main/Untitled0.ipynb\" target=\"_parent\"><img src=\"https://colab.research.google.com/assets/colab-badge.svg\" alt=\"Open In Colab\"/></a>"
      ]
    },
    {
      "cell_type": "code",
      "execution_count": 3,
      "metadata": {
        "colab": {
          "base_uri": "https://localhost:8080/"
        },
        "id": "7_4HlwJThH69",
        "outputId": "e5b45d6a-19ac-43eb-a415-f0bb6bf1a2a6"
      },
      "outputs": [
        {
          "output_type": "stream",
          "name": "stdout",
          "text": [
            "Your Salary is 9000\n",
            "\n",
            "Tax percentage deducted is 30%\n",
            "\n",
            "Tax amount deducted is 2700.0\n",
            "\n",
            "You total net pay is 6300.0\n"
          ]
        }
      ],
      "source": [
        "Salary_rate = 600\n",
        "Salary = Salary_rate*15\n",
        "Tax_percentage = .30\n",
        "Tax_amount = Salary * Tax_percentage\n",
        "Net_pay = Salary - Tax_amount\n",
        "\n",
        "print(\"Your Salary is\", Salary)\n",
        "\n",
        "print(\"\\nTax percentage deducted is 30%\")\n",
        "\n",
        "print(\"\\nTax amount deducted is\", Tax_amount)\n",
        "\n",
        "print(\"\\nYou total net pay is\", Net_pay)"
      ]
    },
    {
      "cell_type": "code",
      "source": [],
      "metadata": {
        "id": "qDkTp88hqPXq"
      },
      "execution_count": null,
      "outputs": []
    }
  ]
}